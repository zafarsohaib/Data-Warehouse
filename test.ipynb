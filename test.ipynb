{
 "cells": [
  {
   "cell_type": "code",
   "execution_count": null,
   "metadata": {
    "editable": true
   },
   "outputs": [],
   "source": [
    "%run create_tables.py"
   ]
  },
  {
   "cell_type": "code",
   "execution_count": null,
   "metadata": {
    "editable": true
   },
   "outputs": [],
   "source": [
    "%run etl.py"
   ]
  },
  {
   "cell_type": "code",
   "execution_count": 1,
   "metadata": {
    "editable": true
   },
   "outputs": [
    {
     "name": "stdout",
     "output_type": "stream",
     "text": [
      "\n",
      "Running: \n",
      "SELECT u.first_name, u.last_name FROM songplays sp \n",
      "inner join users u on u.user_id=sp.user_id \n",
      "inner join songs s on s.song_id=sp.song_id \n",
      "where s.title='Setanta matins';\n",
      "\n",
      "Result:\n",
      "    ('Lily', 'Koch')\n",
      "\n",
      "Running: \n",
      "SELECT first_name, last_name FROM users \n",
      "where level='paid' \n",
      "order by first_name limit 10;\n",
      "\n",
      "Result:\n",
      "    ('Aiden', 'Ramirez')\n",
      "    ('Aleena', 'Kirby')\n",
      "    ('Amiya', 'Davidson')\n",
      "    ('Avery', 'Watkins')\n",
      "    ('Avery', 'Martinez')\n",
      "    ('Chloe', 'Cuevas')\n",
      "    ('Emily', 'Benson')\n",
      "    ('Harper', 'Barrett')\n",
      "    ('Hayden', 'Brock')\n",
      "    ('Jacob', 'Klein')\n",
      "\n",
      "Running: \n",
      "SELECT t.day || '-' || t.month  || '-' || t.year as LAST_ACCCESS_DATE FROM songplays sp \n",
      "inner join time t on t.start_time = sp.start_time \n",
      "inner join users u on u.user_id=sp.user_id \n",
      "where u.first_name='Aleena' \n",
      "order by sp.start_time desc limit 1;\n",
      "\n",
      "Result:\n",
      "    ('26-11-2018',)\n",
      "\n",
      "Running: \n",
      "SELECT count(*) from artists;\n",
      "\n",
      "Result:\n",
      "    (9553,)\n",
      "\n",
      "Running: \n",
      "SELECT count(distinct artist_id) from artists;\n",
      "\n",
      "Result:\n",
      "    (9553,)\n",
      "\n",
      "Running: \n",
      "SELECT count(*) from users;\n",
      "\n",
      "Result:\n",
      "    (96,)\n",
      "\n",
      "Running: \n",
      "SELECT count(distinct user_id) from users;\n",
      "\n",
      "Result:\n",
      "    (96,)\n",
      "\n",
      "Running: \n",
      "SELECT count(*) from songs;\n",
      "\n",
      "Result:\n",
      "    (14896,)\n",
      "\n",
      "Running: \n",
      "SELECT count(distinct song_id) from songs;\n",
      "\n",
      "Result:\n",
      "    (14896,)\n",
      "\n",
      "Running: \n",
      "SELECT count(*) from time;\n",
      "\n",
      "Result:\n",
      "    (6805,)\n",
      "\n",
      "Running: \n",
      "SELECT count(distinct start_time) from time;\n",
      "\n",
      "Result:\n",
      "    (6805,)\n",
      "\n",
      "Running: \n",
      "SELECT count(*) from songplays;\n",
      "\n",
      "Result:\n",
      "    (333,)\n",
      "\n",
      "Running: \n",
      "SELECT count(distinct songplay_id) from songplays;\n",
      "\n",
      "Result:\n",
      "    (333,)\n",
      "\n",
      "Running: \n",
      "SELECT count(*) from staging_events;\n",
      "\n",
      "Result:\n",
      "    (8038,)\n",
      "\n",
      "Running: \n",
      "SELECT count(*) from staging_songs;\n",
      "\n",
      "Result:\n",
      "    (14896,)\n"
     ]
    }
   ],
   "source": [
    "%run analytics.py"
   ]
  },
  {
   "cell_type": "code",
   "execution_count": null,
   "metadata": {
    "editable": true
   },
   "outputs": [],
   "source": []
  },
  {
   "cell_type": "code",
   "execution_count": null,
   "metadata": {
    "editable": true
   },
   "outputs": [],
   "source": []
  }
 ],
 "metadata": {
  "kernelspec": {
   "display_name": "Python 3",
   "language": "python",
   "name": "python3"
  },
  "language_info": {
   "codemirror_mode": {
    "name": "ipython",
    "version": 3
   },
   "file_extension": ".py",
   "mimetype": "text/x-python",
   "name": "python",
   "nbconvert_exporter": "python",
   "pygments_lexer": "ipython3",
   "version": "3.6.3"
  }
 },
 "nbformat": 4,
 "nbformat_minor": 4
}
